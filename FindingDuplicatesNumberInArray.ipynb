{
  "nbformat": 4,
  "nbformat_minor": 0,
  "metadata": {
    "colab": {
      "name": "FindingDuplicatesNumberInArray",
      "provenance": [],
      "authorship_tag": "ABX9TyNyhZSiV/qfcXjXyhbNkpPU",
      "include_colab_link": true
    },
    "kernelspec": {
      "name": "python3",
      "display_name": "Python 3"
    }
  },
  "cells": [
    {
      "cell_type": "markdown",
      "metadata": {
        "id": "view-in-github",
        "colab_type": "text"
      },
      "source": [
        "<a href=\"https://colab.research.google.com/github/chanphoomk/FindingDuplicatesInArray/blob/master/FindingDuplicatesNumberInArray.ipynb\" target=\"_parent\"><img src=\"https://colab.research.google.com/assets/colab-badge.svg\" alt=\"Open In Colab\"/></a>"
      ]
    },
    {
      "cell_type": "code",
      "metadata": {
        "id": "6PkicOKypQ3e",
        "colab_type": "code",
        "colab": {}
      },
      "source": [
        "def findDuplicates(nums):\n",
        "  turtle = nums[0]\n",
        "  hare = nums[0]\n",
        "  while True:\n",
        "    turtle = nums[turtle]\n",
        "    hare = nums[nums[hare]]\n",
        "    print(\"Search : \",turtle,hare,\"\\n\") #Show how it works\n",
        "    if turtle == hare:\n",
        "      break\n",
        "\n",
        "  ptr1 = nums[0]\n",
        "  ptr2 = turtle\n",
        "  while ptr1 != ptr2:\n",
        "    ptr1 = nums[ptr1]\n",
        "    ptr2 = nums[ptr2]\n",
        "\n",
        "  return ptr1"
      ],
      "execution_count": 0,
      "outputs": []
    },
    {
      "cell_type": "code",
      "metadata": {
        "id": "4f4_pLYpqPft",
        "colab_type": "code",
        "colab": {
          "base_uri": "https://localhost:8080/",
          "height": 374
        },
        "outputId": "97414abe-a433-4815-cd1f-a50096a89e56"
      },
      "source": [
        "print(findDuplicates([1,2,3,4,5,6,7,8,9,0,1]))"
      ],
      "execution_count": 8,
      "outputs": [
        {
          "output_type": "stream",
          "text": [
            "2 3 \n",
            "\n",
            "3 5 \n",
            "\n",
            "4 7 \n",
            "\n",
            "5 9 \n",
            "\n",
            "6 1 \n",
            "\n",
            "7 3 \n",
            "\n",
            "8 5 \n",
            "\n",
            "9 7 \n",
            "\n",
            "0 9 \n",
            "\n",
            "1 1 \n",
            "\n",
            "1\n"
          ],
          "name": "stdout"
        }
      ]
    }
  ]
}
